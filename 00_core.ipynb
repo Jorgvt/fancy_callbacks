{
 "cells": [
  {
   "cell_type": "code",
   "execution_count": null,
   "metadata": {},
   "outputs": [],
   "source": [
    "# default_exp core"
   ]
  },
  {
   "cell_type": "markdown",
   "metadata": {},
   "source": [
    "# Fancy Callbacks\n",
    "\n",
    "> Fancy callbacks for Keras. This was created mainly to explore the usage of nbdev."
   ]
  },
  {
   "cell_type": "code",
   "execution_count": null,
   "metadata": {},
   "outputs": [],
   "source": [
    "#hide\n",
    "from nbdev.showdoc import *"
   ]
  },
  {
   "cell_type": "markdown",
   "metadata": {},
   "source": [
    "## Plot metrics callback\n",
    "\n",
    "> This object will be our main callback used to organize our plottings."
   ]
  },
  {
   "cell_type": "code",
   "execution_count": null,
   "metadata": {},
   "outputs": [],
   "source": [
    "#export\n",
    "#hide\n",
    "import tensorflow as tf\n",
    "import matplotlib.pyplot as plt\n",
    "from IPython.display import clear_output"
   ]
  },
  {
   "cell_type": "code",
   "execution_count": null,
   "metadata": {},
   "outputs": [],
   "source": [
    "#export\n",
    "class PlotMetrics(tf.keras.callbacks.History):\n",
    "    def __init__(self, figsize=(9, 4)):\n",
    "        super(PlotMetrics, self).__init__()\n",
    "        self.figsize = figsize\n",
    "    def _get_unique_metrics(self):\n",
    "        unique_names = [name for name in self.history.keys() if name[:4]!='val_']\n",
    "        return unique_names"
   ]
  },
  {
   "cell_type": "markdown",
   "metadata": {},
   "source": [
    "## Plot metrics after training\n",
    "\n",
    "> Normally, we all like to plot our metrics after the training has concluded. Because of this, we built a `Callback` that will automatically plot them for you once the training is completed."
   ]
  },
  {
   "cell_type": "code",
   "execution_count": null,
   "metadata": {},
   "outputs": [],
   "source": [
    "#export\n",
    "class PlotMetricsEnd(PlotMetrics):\n",
    "    def __init__(self, **kwargs):\n",
    "        super(PlotMetricsEnd, self).__init__(**kwargs)\n",
    "\n",
    "    def on_train_end(self, logs=None):\n",
    "        unique_names = self._get_unique_metrics()\n",
    "        fig, axes = plt.subplots(1, len(unique_names), figsize=self.figsize)\n",
    "        for i, name in enumerate(unique_names):\n",
    "            axes[i].plot(self.history[name], label='Train')\n",
    "            axes[i].plot(self.history[f'val_{name}'], label='Validation')\n",
    "            axes[i].set_title(name)\n",
    "            axes[i].legend()\n",
    "        plt.show()"
   ]
  },
  {
   "cell_type": "markdown",
   "metadata": {},
   "source": [
    "## Plot metrics during training\n",
    "\n",
    "Insted of settling with the Keras way of showing the progress during the training, sometimes its fancier to be able to see a dynamic plot of your metrics during training."
   ]
  },
  {
   "cell_type": "code",
   "execution_count": null,
   "metadata": {},
   "outputs": [],
   "source": [
    "#export\n",
    "class PlotMetricsProgress(PlotMetrics):\n",
    "    def __init__(self, **kwargs):\n",
    "        super(PlotMetricsProgress, self).__init__(**kwargs)\n",
    "    \n",
    "    def on_epoch_end(self, epoch, logs=None):\n",
    "        super().on_epoch_end(epoch, logs)\n",
    "        unique_names = self._get_unique_metrics()\n",
    "        fig, axes = plt.subplots(1, len(unique_names), figsize=self.figsize)\n",
    "        for i, name in enumerate(unique_names):\n",
    "            axes[i].plot(self.history[name], label='Train')\n",
    "            axes[i].plot(self.history[f'val_{name}'], label='Validation')\n",
    "            axes[i].set_title(name)\n",
    "            axes[i].legend()\n",
    "        plt.suptitle(f'Epoch {epoch+1}')\n",
    "        clear_output()\n",
    "        plt.show()"
   ]
  },
  {
   "cell_type": "code",
   "execution_count": null,
   "metadata": {},
   "outputs": [],
   "source": [
    "#hide\n",
    "import tensorflow as tf\n",
    "from tensorflow.keras import layers\n",
    "from tensorflow.keras.datasets import mnist"
   ]
  },
  {
   "cell_type": "code",
   "execution_count": null,
   "metadata": {},
   "outputs": [],
   "source": [
    "#hide\n",
    "(X_train, Y_train), (X_test, Y_test) = mnist.load_data()\n",
    "\n",
    "X_train = X_train[:,:,:,None]/255.0\n",
    "X_test = X_test[:,:,:,None]/255.0"
   ]
  },
  {
   "cell_type": "code",
   "execution_count": null,
   "metadata": {},
   "outputs": [],
   "source": [
    "#hide\n",
    "model = tf.keras.Sequential([\n",
    "    layers.Conv2D(32, 3, padding='same', activation='relu', input_shape=X_train[0].shape),\n",
    "    layers.MaxPool2D(2),\n",
    "    layers.Flatten(),\n",
    "    layers.Dense(10, activation='softmax')\n",
    "])\n",
    "model.compile(loss='sparse_categorical_crossentropy',\n",
    "              optimizer='adam',\n",
    "              metrics=['accuracy'])"
   ]
  },
  {
   "cell_type": "code",
   "execution_count": null,
   "metadata": {},
   "outputs": [],
   "source": [
    "#hide\n",
    "cb = PlotMetricsProgress()"
   ]
  },
  {
   "cell_type": "code",
   "execution_count": null,
   "metadata": {},
   "outputs": [
    {
     "data": {
      "image/png": "[encoded data removed]",
      "text/plain": [
       "<Figure size 648x288 with 2 Axes>"
      ]
     },
     "metadata": {
      "needs_background": "light"
     },
     "output_type": "display_data"
    }
   ],
   "source": [
    "#hide\n",
    "history = model.fit(X_train, Y_train, \n",
    "                    epochs=2, batch_size=256,\n",
    "                    validation_data=(X_test, Y_test),\n",
    "                    callbacks=[cb])"
   ]
  },
  {
   "cell_type": "code",
   "execution_count": null,
   "metadata": {},
   "outputs": [
    {
     "name": "stdout",
     "output_type": "stream",
     "text": [
      "Converted 00_core.ipynb.\n",
      "Converted index.ipynb.\n"
     ]
    }
   ],
   "source": [
    "#hide\n",
    "from nbdev.export import notebook2script; notebook2script()"
   ]
  }
 ],
 "metadata": {
  "kernelspec": {
   "display_name": "Python 3.8.13 ('cuda')",
   "language": "python",
   "name": "python3"
  }
 },
 "nbformat": 4,
 "nbformat_minor": 2
}
