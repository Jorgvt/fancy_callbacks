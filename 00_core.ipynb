{
 "cells": [
  {
   "cell_type": "code",
   "execution_count": null,
   "metadata": {},
   "outputs": [],
   "source": [
    "# default_exp core"
   ]
  },
  {
   "cell_type": "markdown",
   "metadata": {},
   "source": [
    "# Fancy Callbacks\n",
    "\n",
    "> Fancy callbacks for Keras. This was created mainly to explore the usage of nbdev."
   ]
  },
  {
   "cell_type": "code",
   "execution_count": null,
   "metadata": {},
   "outputs": [],
   "source": [
    "#hide\n",
    "from nbdev.showdoc import *"
   ]
  },
  {
   "cell_type": "markdown",
   "metadata": {},
   "source": [
    "## Plot metrics after training\n",
    "\n",
    "> Normally, we all like to plot our metrics after the training has concluded. Because of this, we built a `Callback` that will automatically plot them for you once the training is completed."
   ]
  },
  {
   "cell_type": "code",
   "execution_count": null,
   "metadata": {},
   "outputs": [],
   "source": [
    "#export\n",
    "#hide\n",
    "import tensorflow as tf\n",
    "import matplotlib.pyplot as plt"
   ]
  },
  {
   "cell_type": "code",
   "execution_count": null,
   "metadata": {},
   "outputs": [],
   "source": [
    "#export\n",
    "class PlotMetrics(tf.keras.callbacks.History):\n",
    "    def __init__(self, figsize=(9, 4)):\n",
    "        super(PlotMetrics, self).__init__()\n",
    "        self.figsize = figsize\n",
    "    def _get_unique_metrics(self):\n",
    "        unique_names = [name for name in self.history.keys() if name[:4]!='val_']\n",
    "        return unique_names\n",
    "\n",
    "    def on_train_end(self, logs=None):\n",
    "        unique_names = self._get_unique_metrics()\n",
    "        fig, axes = plt.subplots(1, len(unique_names), figsize=self.figsize)\n",
    "        for i, name in enumerate(unique_names):\n",
    "            axes[i].plot(self.history[name], label='Train')\n",
    "            axes[i].plot(self.history[f'val_{name}'], label='Validation')\n",
    "            axes[i].set_title(name)\n",
    "            axes[i].legend()\n",
    "        plt.show()"
   ]
  }
 ],
 "metadata": {
  "kernelspec": {
   "display_name": "Python 3.8.13 ('cuda')",
   "language": "python",
   "name": "python3"
  }
 },
 "nbformat": 4,
 "nbformat_minor": 2
}
